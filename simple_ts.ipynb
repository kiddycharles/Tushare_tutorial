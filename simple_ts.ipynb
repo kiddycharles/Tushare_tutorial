import tushare as ts
ts.set_token('xxxxxxx')
pro = ts.pro_api()
data = pro.stock_basic(exchange='', list_status='L', fields='ts_code,symbol,name,area,industry,list_date')


data.shape  # number of stocks in the market
data['ts_code']  # list all the stock code in the market
data[data['ts_code'].str.startswith('68') | data['ts_code'].str.startswith('300') | data['ts_code'].str.endswith('BJ')]  # list all the stock code that requires special foundation
